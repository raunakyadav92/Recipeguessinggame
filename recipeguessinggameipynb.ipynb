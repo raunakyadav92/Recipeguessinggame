{
  "nbformat": 4,
  "nbformat_minor": 0,
  "metadata": {
    "colab": {
      "provenance": [],
      "authorship_tag": "ABX9TyNMv6QIoGNOJP50JkHp0DdX",
      "include_colab_link": true
    },
    "kernelspec": {
      "name": "python3",
      "display_name": "Python 3"
    },
    "language_info": {
      "name": "python"
    }
  },
  "cells": [
    {
      "cell_type": "markdown",
      "metadata": {
        "id": "view-in-github",
        "colab_type": "text"
      },
      "source": [
        "<a href=\"https://colab.research.google.com/github/raunakyadav92/Recipeguessinggame/blob/main/recipeguessinggameipynb.ipynb\" target=\"_parent\"><img src=\"https://colab.research.google.com/assets/colab-badge.svg\" alt=\"Open In Colab\"/></a>"
      ]
    },
    {
      "cell_type": "code",
      "execution_count": null,
      "metadata": {
        "id": "UcYifXYtpPch"
      },
      "outputs": [],
      "source": [
        "import openai\n",
        "\n",
        "openai.api_key = 'YOUR_API_KEY'\n",
        "\n",
        "def get_recipe_ingredients():\n",
        "    prompt = \"List 5 main ingredients of a famous dish without mentioning the dish name.\"\n",
        "    response = openai.Completion.create(\n",
        "        engine=\"text-davinci-003\",\n",
        "        prompt=prompt,\n",
        "        max_tokens=50\n",
        "    )\n",
        "    return response.choices[0].text.strip()\n",
        "\n",
        "def check_guess(ingredients, user_guess):\n",
        "    prompt = f\"Is '{user_guess}' a correct dish name for these ingredients: {ingredients}? Answer Yes or No.\"\n",
        "    response = openai.Completion.create(\n",
        "        engine=\"text-davinci-003\",\n",
        "        prompt=prompt,\n",
        "        max_tokens=10\n",
        "    )\n",
        "    return \"yes\" in response.choices[0].text.lower()\n",
        "\n",
        "# Game Flow Example\n",
        "ingredients = get_recipe_ingredients()\n",
        "print(f\"Guess the dish from these ingredients: {ingredients}\")\n",
        "user_guess = input(\"Your guess: \")\n",
        "\n",
        "if check_guess(ingredients, user_guess):\n",
        "    print(\"✅ Correct!\")\n",
        "else:\n",
        "    print(\"❌ Wrong! Better luck next time!\")\n"
      ]
    }
  ]
}